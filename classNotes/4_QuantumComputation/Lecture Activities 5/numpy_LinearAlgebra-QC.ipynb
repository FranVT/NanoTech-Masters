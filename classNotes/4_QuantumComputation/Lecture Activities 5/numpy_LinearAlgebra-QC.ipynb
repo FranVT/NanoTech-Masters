{
 "cells": [
  {
   "cell_type": "markdown",
   "id": "33eb7b88-074d-47a6-9fae-7eb346562588",
   "metadata": {},
   "source": [
    "# NumPy For Linear Algebra\n",
    "## Author: Dr. H. García-Tecocoatzi\n",
    "This notebook covers the basics of matrix operations using **NumPy**:\n",
    "- Creating matrices\n",
    "- Basic arithmetic operations\n",
    "- Transpose and inverse\n",
    "- Determinant\n",
    "- Eigenvalues and eigenvectors\n"
   ]
  },
  {
   "cell_type": "code",
   "execution_count": null,
   "id": "1dc50774",
   "metadata": {},
   "outputs": [],
   "source": [
    "import numpy as np"
   ]
  },
  {
   "cell_type": "markdown",
   "id": "dd94bb41",
   "metadata": {},
   "source": [
    "## 1. Creating Matrices"
   ]
  },
  {
   "cell_type": "code",
   "execution_count": null,
   "id": "93438a5a",
   "metadata": {},
   "outputs": [],
   "source": [
    "A = np.array([[1, 2],\n",
    "              [3, 4]])\n",
    "\n",
    "B = np.array([[5, 6],\n",
    "              [7, 8]])\n",
    "\n",
    "print(\"A =\\n\", A)\n",
    "print(\"B =\\n\", B)"
   ]
  },
  {
   "cell_type": "markdown",
   "id": "d438645d",
   "metadata": {},
   "source": [
    "## 2. Basic Operations"
   ]
  },
  {
   "cell_type": "code",
   "execution_count": null,
   "id": "b8fcb0c7",
   "metadata": {},
   "outputs": [],
   "source": [
    "# Addition and subtraction\n",
    "print(\"A + B =\\n\", A + B)\n",
    "print(\"A - B =\\n\", A - B)\n",
    "\n",
    "# Element-wise multiplication\n",
    "print(\"A * B =\\n\", A * B)\n",
    "\n",
    "# Matrix multiplication\n",
    "print(\"A @ B =\\n\",  np.dot(A, B))   # or A @ B np.dot(A, B)"
   ]
  },
  {
   "cell_type": "markdown",
   "id": "9c7ad942",
   "metadata": {},
   "source": [
    "## 3. Transpose and Inverse"
   ]
  },
  {
   "cell_type": "code",
   "execution_count": null,
   "id": "17c12bab",
   "metadata": {},
   "outputs": [],
   "source": [
    "# Transpose\n",
    "print(\"A^T =\\n\", A.T)\n",
    "\n",
    "# Inverse (if the matrix is invertible)\n",
    "# We are defining a new Matrix A_inv. \n",
    "A_inv = np.linalg.inv(A)\n",
    "print(\"A^-1 =\\n\", A_inv)\n",
    "\n",
    "# Verification: A @ A^-1 ≈ I\n",
    "print(\"A @ A^-1 =\\n\", A @ A_inv)"
   ]
  },
  {
   "cell_type": "markdown",
   "id": "937e21d6",
   "metadata": {},
   "source": [
    "## 4. Determinant"
   ]
  },
  {
   "cell_type": "code",
   "execution_count": null,
   "id": "e8eb082b",
   "metadata": {},
   "outputs": [],
   "source": [
    "det_A = np.linalg.det(A)\n",
    "trace_A = np.trace(A)\n",
    "\n",
    "print(\"det(A) =\", det_A)\n"
   ]
  },
  {
   "cell_type": "markdown",
   "id": "dbbaeec0",
   "metadata": {},
   "source": [
    "## 5. Eigenvalues and Eigenvectors"
   ]
  },
  {
   "cell_type": "code",
   "execution_count": null,
   "id": "27725056",
   "metadata": {},
   "outputs": [],
   "source": [
    "eigenvalues, eigenvectors = np.linalg.eig(A)\n",
    "\n",
    "print(\"Eigenvalues =\", eigenvalues)\n",
    "print(\"Eigenvectors =\\n\", eigenvectors)\n",
    "\n",
    "# Each column in 'eigenvectors' corresponds to the eigenvalue at the same index in 'eigenvalues'"
   ]
  },
  {
   "cell_type": "code",
   "execution_count": null,
   "id": "0c32e351-9e9c-4daa-b6b5-a3b129ef5f32",
   "metadata": {},
   "outputs": [],
   "source": [
    "for i in range(len(eigenvalues)):\n",
    "    print(f\"Eigenvalue {i+1}: {eigenvalues[i]}\")\n",
    "    print(f\"Corresponding eigenvector:\\n{eigenvectors[:, i]}\\n\")\n"
   ]
  },
  {
   "cell_type": "markdown",
   "id": "f722509a",
   "metadata": {},
   "source": [
    "## 6. Example with a Larger Matrix"
   ]
  },
  {
   "cell_type": "code",
   "execution_count": null,
   "id": "665880cd",
   "metadata": {},
   "outputs": [],
   "source": [
    "M = np.array([[2, 0, 0],\n",
    "              [0, 3, 4],\n",
    "              [0, 4, 9]])\n",
    "\n",
    "vals, vecs = np.linalg.eig(M)\n",
    "\n",
    "print(\"Eigenvalues:\", vals)\n",
    "print(\"Eigenvectors:\\n\", vecs)"
   ]
  },
  {
   "cell_type": "markdown",
   "id": "3fa1f3de-d9e0-4041-b3b6-044921958932",
   "metadata": {},
   "source": [
    "## E: For each eigenvalue, write down its corresponding eigenvector (coding)."
   ]
  },
  {
   "cell_type": "code",
   "execution_count": null,
   "id": "27bfa480-4512-48c1-9d2c-9b5d3a797410",
   "metadata": {},
   "outputs": [],
   "source": []
  }
 ],
 "metadata": {
  "kernelspec": {
   "display_name": "anaconda-2024.02-py310",
   "language": "python",
   "name": "conda-env-anaconda-2024.02-py310-py"
  },
  "language_info": {
   "codemirror_mode": {
    "name": "ipython",
    "version": 3
   },
   "file_extension": ".py",
   "mimetype": "text/x-python",
   "name": "python",
   "nbconvert_exporter": "python",
   "pygments_lexer": "ipython3",
   "version": "3.10.14"
  }
 },
 "nbformat": 4,
 "nbformat_minor": 5
}
