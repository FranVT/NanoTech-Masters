{
 "cells": [
  {
   "cell_type": "markdown",
   "id": "83a2f40d",
   "metadata": {},
   "source": [
    "# Activity 1: F5012\n",
    "Author: A. Ramirez-Morales (andres.ramirez@tec.mx)\n",
    "\n",
    "## Instructions:\n",
    "- Active the `Anaconda` kernel\n",
    "- Complete the code where needed\n",
    "- Add comments/documentation where needed\n",
    "- Intepret your results\n"
   ]
  },
  {
   "cell_type": "markdown",
   "id": "fe4edef0",
   "metadata": {},
   "source": [
    "### 1. Add python libraries"
   ]
  },
  {
   "cell_type": "code",
   "execution_count": null,
   "id": "f8656673",
   "metadata": {},
   "outputs": [],
   "source": [
    "import numpy as np\n",
    "import matplotlib.pyplot as plt"
   ]
  },
  {
   "cell_type": "markdown",
   "id": "f7220c98",
   "metadata": {},
   "source": [
    "### 2. Function to define the measurement operators\n",
    "\n",
    "Exercise: Add documentation and comment the lines the code below, try to explain the as much as possible"
   ]
  },
  {
   "cell_type": "code",
   "execution_count": null,
   "id": "c680440b",
   "metadata": {},
   "outputs": [],
   "source": [
    "\n",
    "def create_povm_elements():\n",
    "    \"\"\"\n",
    "    Write documentation\n",
    "    \"\"\"\n",
    "    # add comment here\n",
    "    zero = np.array([[1], [0]], dtype=complex)\n",
    "    one = # complete line \n",
    "    \n",
    "    # add comment here\n",
    "    c = np.sqrt(2) / (1 + np.sqrt(2))\n",
    "    E1 = c * one @ one.conj().T # add comment here\n",
    "    E2 = c * (zero - one) @ (zero.conj().T - one.conj().T) / 2 # add comment here\n",
    "    E3 =  # complete line\n",
    "    \n",
    "    return [E1, E2, E3]"
   ]
  },
  {
   "cell_type": "markdown",
   "id": "1048edd0",
   "metadata": {},
   "source": [
    "### 3. Calculate the probabilities\n",
    "Exerise: understand the function below"
   ]
  },
  {
   "cell_type": "code",
   "execution_count": null,
   "id": "2173d954",
   "metadata": {},
   "outputs": [],
   "source": [
    "def get_probabilities(state, povm_elements):\n",
    "    \"\"\"\n",
    "    Write documentation\n",
    "    \"\"\"\n",
    "    probabilities = []\n",
    "    for E in povm_elements:\n",
    "        prob = np.real(state.conj().T @ E @ state)[0, 0] # add comment here\n",
    "        probabilities.append(prob)\n",
    "    return probabilities"
   ]
  },
  {
   "cell_type": "markdown",
   "id": "0b40d639",
   "metadata": {},
   "source": [
    "### 4. Construct the states and the POVM elements\n",
    "Exercise: complete the code below"
   ]
  },
  {
   "cell_type": "code",
   "execution_count": null,
   "id": "2a698872",
   "metadata": {},
   "outputs": [],
   "source": [
    "# get the POVM elements\n",
    "povm_elements = \n",
    "    \n",
    "# define test states\n",
    "zero = \n",
    "one = \n",
    "zero_plus_one = \n",
    "\n",
    "# create dictionary    \n",
    "test_states = {\n",
    "        \"|0⟩\": zero,\n",
    "        \"|1⟩\": one,\n",
    "        \"|0⟩ + |1⟩\": zero_plus_one\n",
    "    }\n",
    "    \n",
    "# get probabilities for each state\n",
    "probabilities_dict = {}\n",
    "for state_name, state in test_states.items():\n",
    "    probs = \n",
    "    probabilities_dict[state_name] = probs"
   ]
  },
  {
   "cell_type": "markdown",
   "id": "fe19f274",
   "metadata": {},
   "source": [
    "### 5.Plotting\n",
    "Exercise: run the code and discuss the results"
   ]
  },
  {
   "cell_type": "code",
   "execution_count": null,
   "id": "85fadaed",
   "metadata": {},
   "outputs": [],
   "source": [
    "\n",
    "plt.figure(figsize=(10, 6))    \n",
    "states_names = list(test_states.keys())\n",
    "x_pos = np.arange(len(states_names))\n",
    "width = 0.25\n",
    "    \n",
    "for i, state_name in enumerate(states_names):\n",
    "    probs = probabilities_dict[state_name]\n",
    "        \n",
    "    plt.bar(x_pos[i] - width, probs[0], width, label='E1' if i == 0 else \"\", \n",
    "               color='red', alpha=0.7)\n",
    "    plt.bar(x_pos[i], probs[1], width, label='E2' if i == 0 else \"\", \n",
    "               color='blue', alpha=0.7)\n",
    "    plt.bar(x_pos[i] + width, probs[2], width, label='E3' if i == 0 else \"\", \n",
    "               color='green', alpha=0.7)\n",
    "        \n",
    "    # Add probability values on bars\n",
    "    plt.text(x_pos[i] - width, probs[0] + 0.01, f'{probs[0]:.3f}', \n",
    "                ha='center', va='bottom', fontsize=10)\n",
    "    plt.text(x_pos[i], probs[1] + 0.01, f'{probs[1]:.3f}', \n",
    "                ha='center', va='bottom', fontsize=10)\n",
    "    plt.text(x_pos[i] + width, probs[2] + 0.01, f'{probs[2]:.3f}', \n",
    "                ha='center', va='bottom', fontsize=10)\n",
    "    \n",
    "plt.xlabel('Quantum State')\n",
    "plt.ylabel('Probability')\n",
    "plt.xticks(x_pos, states_names)\n",
    "plt.legend()\n",
    "\n",
    "plt.tight_layout()\n",
    "plt.show()"
   ]
  },
  {
   "cell_type": "markdown",
   "id": "b9fd730d",
   "metadata": {},
   "source": []
  }
 ],
 "metadata": {
  "kernelspec": {
   "display_name": "autumn",
   "language": "python",
   "name": "python3"
  },
  "language_info": {
   "codemirror_mode": {
    "name": "ipython",
    "version": 3
   },
   "file_extension": ".py",
   "mimetype": "text/x-python",
   "name": "python",
   "nbconvert_exporter": "python",
   "pygments_lexer": "ipython3",
   "version": "3.12.6"
  }
 },
 "nbformat": 4,
 "nbformat_minor": 5
}
