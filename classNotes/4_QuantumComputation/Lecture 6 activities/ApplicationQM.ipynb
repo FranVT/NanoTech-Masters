{
 "cells": [
  {
   "cell_type": "markdown",
   "id": "2d8b9f82-ab4e-45e9-abd4-4391e229e05b",
   "metadata": {},
   "source": [
    "# NumPy for QM\n",
    "## Author: Dr. H. García-Tecocoatzi\n",
    "This notebook covers:\n",
    "- Orthonormal basis\n",
    "- Matrix elements\n",
    "- Not a diagonalizable matrix\n",
    "- Check Hermitian Matrix\n",
    " ### using **NumPy**  "
   ]
  },
  {
   "cell_type": "code",
   "execution_count": null,
   "id": "6eb74ec1-4b8b-40fb-8fef-f28c5e612ca4",
   "metadata": {},
   "outputs": [],
   "source": [
    "import numpy as np"
   ]
  },
  {
   "cell_type": "code",
   "execution_count": null,
   "id": "c2913cd4-c348-45b7-9333-dd5ebe935ca5",
   "metadata": {},
   "outputs": [],
   "source": [
    "# Gram–Schmidt orthogonalization in R^3\n",
    "\n",
    "def gram_schmidt(vectors):\n",
    "    \"\"\"Perform Gram–Schmidt process on a list of vectors.\"\"\"\n",
    "    orthogonal = []\n",
    "    for v in vectors:\n",
    "        # Subtract projections onto previously computed vectors\n",
    "        for u in orthogonal:\n",
    "            v = v - np.dot(v, u) / np.dot(u, u) * u\n",
    "        orthogonal.append(v)\n",
    "    return np.array(orthogonal)\n",
    "\n",
    "# Example: three vectors in R^3\n",
    "v1 = np.array([1, 1, 0], dtype=float)\n",
    "v2 = np.array([1, 0, 1], dtype=float)\n",
    "v3 = np.array([0, 1, 1], dtype=float)\n",
    "\n",
    "vectors = [v1, v2, v3]\n",
    "\n",
    "orthogonal = gram_schmidt(vectors)\n",
    "\n",
    "# Normalize to get orthonormal basis\n",
    "orthonormal = np.array([v / np.linalg.norm(v) for v in orthogonal])\n",
    "\n",
    "print(\"Original vectors:\\n\", np.array(vectors))\n",
    "print(\"\\nOrthogonal basis:\\n\", orthogonal)\n",
    "print(\"\\nOrthonormal basis:\\n\", orthonormal)\n"
   ]
  },
  {
   "cell_type": "code",
   "execution_count": null,
   "id": "da5ba2c3-6755-4ad4-bec8-f7cda2403dd3",
   "metadata": {},
   "outputs": [],
   "source": [
    "# Define basis vectors |0> and |1>\n",
    "ket0 = np.array([[1], [0]])   # column vector\n",
    "ket1 = np.array([[0], [1]])"
   ]
  },
  {
   "cell_type": "code",
   "execution_count": null,
   "id": "7716f7eb-ca5e-410b-8a0d-b82e576bc2cb",
   "metadata": {},
   "outputs": [],
   "source": [
    "# Construct outer product |0><1|\n",
    "outer = ket0 @ ket1.T.conj()   # .T.conj() = Hermitian transpose\n",
    "#np.dot(A, B)) \n",
    "print(\"Operator |0><1| =\\n\", outer)\n"
   ]
  },
  {
   "cell_type": "code",
   "execution_count": null,
   "id": "8d1d3ef1-597c-4e08-8b57-93a53f1a29b0",
   "metadata": {},
   "outputs": [],
   "source": [
    "# Test action on |1>\n",
    "result = outer @ ket1\n",
    "print(\"Applying operator to |1> gives:\\n\", result)"
   ]
  },
  {
   "cell_type": "code",
   "execution_count": null,
   "id": "88e355a1-bbff-43aa-be61-000c9f6f6218",
   "metadata": {},
   "outputs": [],
   "source": [
    "# Define the matrix\n",
    "A = np.array([[1, 0],\n",
    "              [1, 1]])"
   ]
  },
  {
   "cell_type": "code",
   "execution_count": null,
   "id": "0eb358be-2d0c-42a3-9336-b3a1eb84bd8f",
   "metadata": {},
   "outputs": [],
   "source": [
    "# Compute eigenvalues and eigenvectors\n",
    "eigenvalues, eigenvectors = np.linalg.eig(A)\n",
    "\n",
    "print(\"Eigenvalues:\")\n",
    "print(eigenvalues)\n",
    "print(\"\\nEigenvectors:\")\n",
    "print(eigenvectors)"
   ]
  },
  {
   "cell_type": "code",
   "execution_count": null,
   "id": "7b132468-7b77-4f97-ab70-2c149def1215",
   "metadata": {},
   "outputs": [],
   "source": [
    "# Check the rank of the eigenvector matrix\n",
    "rank = np.linalg.matrix_rank(eigenvectors)\n",
    "print(\"\\nRank of eigenvector matrix:\", rank)\n"
   ]
  },
  {
   "cell_type": "code",
   "execution_count": null,
   "id": "64bae07b-eea2-4a77-b7e4-900295daa3f7",
   "metadata": {},
   "outputs": [],
   "source": [
    "# Dimension of the matrix\n",
    "n = A.shape[0]\n",
    "\n",
    "if rank == n:\n",
    "    print(\"\\n✅ The matrix IS diagonalizable.\")\n",
    "else:\n",
    "    print(\"\\n❌ The matrix is NOT diagonalizable.\")"
   ]
  },
  {
   "cell_type": "code",
   "execution_count": null,
   "id": "b49f7306-2826-4cb4-9d81-4b0bb8e67c5f",
   "metadata": {},
   "outputs": [],
   "source": [
    "# Define the matrix\n",
    "A = np.array([[2, 1j],\n",
    "              [-1j, 3]])\n",
    "\n",
    "# Compute the Hermitian conjugate (conjugate transpose)\n",
    "A_dagger = np.conjugate(A.T)\n",
    "\n",
    "# Print results\n",
    "print(\"Matrix A:\\n\", A)\n",
    "print(\"\\nHermitian conjugate A†:\\n\", A_dagger)\n",
    "\n",
    "# Check Hermitian property\n",
    "is_hermitian = np.allclose(A, A_dagger)\n",
    "print(\"\\nIs A Hermitian? ->\", is_hermitian)\n"
   ]
  },
  {
   "cell_type": "code",
   "execution_count": null,
   "id": "5df09f85-c241-493a-931d-641aad01609b",
   "metadata": {},
   "outputs": [],
   "source": [
    "# Define Pauli matrices\n",
    "sigma_x = np.array([[0, 1],\n",
    "                    [1, 0]])\n",
    "\n",
    "sigma_y = np.array([[0, -1j],\n",
    "                    [1j, 0]])\n",
    "\n",
    "sigma_z = np.array([[1, 0],\n",
    "                    [0, -1]])\n",
    "\n",
    "paulis = {\"σx\": sigma_x, \"σy\": sigma_y, \"σz\": sigma_z}\n",
    "\n",
    "\n"
   ]
  },
  {
   "cell_type": "code",
   "execution_count": null,
   "id": "46613e54-313b-4db9-9f88-ce05a16c8595",
   "metadata": {},
   "outputs": [],
   "source": [
    "# Function to check unitarity\n",
    "def is_unitary(U):\n",
    "    U_dagger = np.conjugate(U.T)\n",
    "    identity = np.eye(U.shape[0])\n",
    "    return np.allclose(U_dagger @ U, identity) and np.allclose(U @ U_dagger, identity)\n"
   ]
  },
  {
   "cell_type": "code",
   "execution_count": null,
   "id": "240d5694-330d-4d70-9047-daee64839a70",
   "metadata": {},
   "outputs": [],
   "source": [
    "# Test each Pauli matrix\n",
    "for name, U in paulis.items():\n",
    "    print(f\"{name}:\\n{U}\\n\")\n",
    "    print(f\"Is {name} unitary? -> {is_unitary(U)}\\n\")"
   ]
  },
  {
   "cell_type": "code",
   "execution_count": null,
   "id": "25efd75b-cf34-4e35-9ce4-703ec955fb4a",
   "metadata": {},
   "outputs": [],
   "source": []
  }
 ],
 "metadata": {
  "kernelspec": {
   "display_name": "anaconda-2024.02-py310",
   "language": "python",
   "name": "conda-env-anaconda-2024.02-py310-py"
  },
  "language_info": {
   "codemirror_mode": {
    "name": "ipython",
    "version": 3
   },
   "file_extension": ".py",
   "mimetype": "text/x-python",
   "name": "python",
   "nbconvert_exporter": "python",
   "pygments_lexer": "ipython3",
   "version": "3.10.14"
  }
 },
 "nbformat": 4,
 "nbformat_minor": 5
}
